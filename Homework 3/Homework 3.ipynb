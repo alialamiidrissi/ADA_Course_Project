{
 "cells": [
  {
   "cell_type": "code",
   "execution_count": 1,
   "metadata": {},
   "outputs": [
    {
     "data": {
      "application/javascript": [
       "IPython.OutputArea.prototype._should_scroll = function(lines) {\n",
       "    return false;\n",
       "}"
      ],
      "text/plain": [
       "<IPython.core.display.Javascript object>"
      ]
     },
     "metadata": {},
     "output_type": "display_data"
    }
   ],
   "source": [
    "%%javascript\n",
    "IPython.OutputArea.prototype._should_scroll = function(lines) {\n",
    "    return false;\n",
    "}"
   ]
  },
  {
   "cell_type": "code",
   "execution_count": 101,
   "metadata": {
    "collapsed": true
   },
   "outputs": [],
   "source": [
    "import warnings\n",
    "warnings.filterwarnings('ignore')\n",
    "import os\n",
    "import pandas as pd\n",
    "import json\n",
    "import folium\n",
    "from IPython.display import display\n",
    "import branca.colormap as cm\n",
    "from folium.features import FeatureGroup\n",
    "import seaborn as sns\n",
    "import matplotlib.pyplot as plt\n",
    "from IPython.display import IFrame\n",
    "%matplotlib inline"
   ]
  },
  {
   "cell_type": "markdown",
   "metadata": {},
   "source": [
    "# Unemployement rates in Europe"
   ]
  },
  {
   "cell_type": "markdown",
   "metadata": {},
   "source": [
    "**Assumption:** The dataset we use contains unemployment rates for the last 10 years which we consider *\"recent dates\"*.\n",
    "\n",
    "The unemployment dataset for **Europe** can be found under `Database by theme > population and social condition > Labour market > Employment and unemployment > LFS series > Total Unemployment > Unemployment by Age, sex and nationality`."
   ]
  },
  {
   "cell_type": "code",
   "execution_count": 63,
   "metadata": {
    "collapsed": true
   },
   "outputs": [],
   "source": [
    "DIR_TOPOJSON = './topojson/'\n",
    "\n",
    "# Europe's and Switzerland's json files paths\n",
    "cantons_geo_path = DIR_TOPOJSON+r'ch-cantons.topojson.json'\n",
    "\n",
    "# Load Europe's and Switzerland's json files\n",
    "cantons_json_data = json.load(open(cantons_geo_path))\n",
    "euro_geo_json = json.load(open('europe.geojson'))"
   ]
  },
  {
   "cell_type": "code",
   "execution_count": 64,
   "metadata": {
    "scrolled": false
   },
   "outputs": [
    {
     "data": {
      "text/plain": [
       "GEO\n",
       "The former Yugoslav Republic of Macedonia    30.22\n",
       "Spain                                        19.58\n",
       "Greece                                       18.34\n",
       "Croatia                                      13.30\n",
       "Latvia                                       12.42\n",
       "Slovakia                                     12.32\n",
       "Portugal                                     11.94\n",
       "Lithuania                                    11.00\n",
       "Ireland                                      10.81\n",
       "Cyprus                                        9.91\n",
       "Turkey                                        9.89\n",
       "Italy                                         9.66\n",
       "Bulgaria                                      9.44\n",
       "Estonia                                       9.16\n",
       "France                                        9.13\n",
       "Hungary                                       8.82\n",
       "Poland                                        8.74\n",
       "Finland                                       8.05\n",
       "Belgium                                       7.87\n",
       "Slovenia                                      7.64\n",
       "Sweden                                        7.57\n",
       "Romania                                       6.67\n",
       "United Kingdom                                6.60\n",
       "Denmark                                       6.18\n",
       "Malta                                         6.13\n",
       "Germany                                       6.11\n",
       "Czech Republic                                5.96\n",
       "Luxembourg                                    5.35\n",
       "Netherlands                                   5.23\n",
       "Austria                                       5.13\n",
       "Iceland                                       5.03\n",
       "Switzerland                                   4.44\n",
       "Norway                                        3.38\n",
       "Name: Value, dtype: float64"
      ]
     },
     "metadata": {},
     "output_type": "display_data"
    },
    {
     "data": {
      "text/html": [
       "<b>Unemployment rates in Spain</b>"
      ],
      "text/plain": [
       "<IPython.core.display.HTML object>"
      ]
     },
     "metadata": {},
     "output_type": "display_data"
    },
    {
     "data": {
      "text/html": [
       "<div>\n",
       "<style>\n",
       "    .dataframe thead tr:only-child th {\n",
       "        text-align: right;\n",
       "    }\n",
       "\n",
       "    .dataframe thead th {\n",
       "        text-align: left;\n",
       "    }\n",
       "\n",
       "    .dataframe tbody tr th {\n",
       "        vertical-align: top;\n",
       "    }\n",
       "</style>\n",
       "<table border=\"1\" class=\"dataframe\">\n",
       "  <thead>\n",
       "    <tr style=\"text-align: right;\">\n",
       "      <th></th>\n",
       "      <th>TIME</th>\n",
       "      <th>GEO</th>\n",
       "      <th>Value</th>\n",
       "    </tr>\n",
       "  </thead>\n",
       "  <tbody>\n",
       "    <tr>\n",
       "      <th>42</th>\n",
       "      <td>2007</td>\n",
       "      <td>Spain</td>\n",
       "      <td>8.2</td>\n",
       "    </tr>\n",
       "    <tr>\n",
       "      <th>159</th>\n",
       "      <td>2008</td>\n",
       "      <td>Spain</td>\n",
       "      <td>11.3</td>\n",
       "    </tr>\n",
       "    <tr>\n",
       "      <th>276</th>\n",
       "      <td>2009</td>\n",
       "      <td>Spain</td>\n",
       "      <td>17.9</td>\n",
       "    </tr>\n",
       "    <tr>\n",
       "      <th>393</th>\n",
       "      <td>2010</td>\n",
       "      <td>Spain</td>\n",
       "      <td>19.9</td>\n",
       "    </tr>\n",
       "    <tr>\n",
       "      <th>510</th>\n",
       "      <td>2011</td>\n",
       "      <td>Spain</td>\n",
       "      <td>21.4</td>\n",
       "    </tr>\n",
       "    <tr>\n",
       "      <th>627</th>\n",
       "      <td>2012</td>\n",
       "      <td>Spain</td>\n",
       "      <td>24.8</td>\n",
       "    </tr>\n",
       "    <tr>\n",
       "      <th>744</th>\n",
       "      <td>2013</td>\n",
       "      <td>Spain</td>\n",
       "      <td>26.1</td>\n",
       "    </tr>\n",
       "    <tr>\n",
       "      <th>861</th>\n",
       "      <td>2014</td>\n",
       "      <td>Spain</td>\n",
       "      <td>24.5</td>\n",
       "    </tr>\n",
       "    <tr>\n",
       "      <th>978</th>\n",
       "      <td>2015</td>\n",
       "      <td>Spain</td>\n",
       "      <td>22.1</td>\n",
       "    </tr>\n",
       "    <tr>\n",
       "      <th>1095</th>\n",
       "      <td>2016</td>\n",
       "      <td>Spain</td>\n",
       "      <td>19.6</td>\n",
       "    </tr>\n",
       "  </tbody>\n",
       "</table>\n",
       "</div>"
      ],
      "text/plain": [
       "      TIME    GEO  Value\n",
       "42    2007  Spain    8.2\n",
       "159   2008  Spain   11.3\n",
       "276   2009  Spain   17.9\n",
       "393   2010  Spain   19.9\n",
       "510   2011  Spain   21.4\n",
       "627   2012  Spain   24.8\n",
       "744   2013  Spain   26.1\n",
       "861   2014  Spain   24.5\n",
       "978   2015  Spain   22.1\n",
       "1095  2016  Spain   19.6"
      ]
     },
     "metadata": {},
     "output_type": "display_data"
    }
   ],
   "source": [
    "DIR_UNEMPLOYMENT = 'lfsa_urgan_1_Data.csv'\n",
    "\n",
    "# Store unemployment Data in DataFrame\n",
    "unemployment_data = pd.read_csv(DIR_UNEMPLOYMENT , usecols=['TIME','SEX','GEO','Value'])\n",
    "unemployment_data = unemployment_data.loc[unemployment_data.SEX == 'Total']\n",
    "unemployment_data.drop('SEX', axis=1)\n",
    "\n",
    "# Replace coutry name to fit the topo/geo json country name. \n",
    "unemployment_data.GEO[unemployment_data.GEO == 'Germany (until 1990 former territory of the FRG)'] = 'Germany'\n",
    "unemployment_data.GEO[unemployment_data.GEO == 'Former Yugoslav Republic of Macedonia, the'] = 'The former Yugoslav Republic of Macedonia'\n",
    "\n",
    "# Compute mean unemployment rate over years for every country\n",
    "unemployment_data_original = unemployment_data\n",
    "unemployment_data = unemployment_data.groupby('GEO')['Value'].mean()\n",
    "\n",
    "# Remove some Data(all Europe ...)\n",
    "unemployment_data = unemployment_data.drop(unemployment_data.index[[8,9,10,11,12,13]])\n",
    "display(unemployment_data.sort_values(ascending=False))\n",
    "\n",
    "display(HTML(\"<b>Unemployment rates in Spain</b>\"))\n",
    "display(unemployment_data_original.loc[unemployment_data_original.GEO == 'Spain'].drop('SEX', axis=1))"
   ]
  },
  {
   "cell_type": "markdown",
   "metadata": {},
   "source": [
    "**Interaction**: Our interaction will be based on the fact that some countries have a high unemployment rate during crisis periods, therefore we show the minimum and maximum unemployment rates of each country. This can be illustrated (see above) by the case of ***Spain*** where the unemployment rate reachs a maximum of **26.1%** unemployment at 2016 while having an average of **19.6%** unemployment on 10 years.\n",
    "\n",
    "**Scale**: We choose to scale the choropleth map based on the quantile values. Besides, we add an extra range to clearly show the outliers."
   ]
  },
  {
   "cell_type": "code",
   "execution_count": 107,
   "metadata": {},
   "outputs": [
    {
     "data": {
      "text/html": [
       "<center><h4>Click on a country to interact with the map.</h4></center>"
      ],
      "text/plain": [
       "<IPython.core.display.HTML object>"
      ]
     },
     "metadata": {},
     "output_type": "display_data"
    },
    {
     "data": {
      "text/html": [
       "\n",
       "        <iframe\n",
       "            width=\"1000\"\n",
       "            height=\"600\"\n",
       "            src=\"europe_unemployment.html\"\n",
       "            frameborder=\"0\"\n",
       "            allowfullscreen\n",
       "        ></iframe>\n",
       "        "
      ],
      "text/plain": [
       "<IPython.lib.display.IFrame at 0x11f616358>"
      ]
     },
     "execution_count": 107,
     "metadata": {},
     "output_type": "execute_result"
    }
   ],
   "source": [
    "def get_info_toshow(df, name):\n",
    "    ''' Helper function that returns the html text to \n",
    "        show in the popup.'''\n",
    "    html = \"\"\"\n",
    "            <b>{} unemployment rate</b><br>\n",
    "            <ul>\n",
    "                <li><b>Avg<b>: {:.3}</li>\n",
    "                <li><b>Max<b>: {:.3} ({})</li>\n",
    "                <li><b>Min<b>: {:.3} ({})</li>\n",
    "            </ul>\n",
    "           \"\"\"\n",
    "    df = df.loc[df.GEO == name]\n",
    "    avg_ = df['Value'].mean()\n",
    "    max_, maxyear = df['Value'].max(), df.loc[df.Value == df['Value'].max()]['TIME'].min()\n",
    "    min_, minyear = df['Value'].min(), df.loc[df.Value == df['Value'].min()]['TIME'].min()\n",
    "    return html.format(name, avg_, max_, maxyear, min_, minyear)\n",
    "    \n",
    "# Europe's coordinates\n",
    "europe_coord = [53,9]\n",
    "# Map centerd in Europe\n",
    "m_europe = folium.Map(europe_coord, zoom_start=4, tiles='cartodbpositron')\n",
    "\n",
    "# Define colormap scale\n",
    "scale = unemployment_data.quantile([0,.25, .5, .75, 0.94, 1]).values\n",
    "colormap= cm.StepColormap(['#ffffb2','#fed976','#feb24c','#fd8d3c','#f03b20', 'red'], vmin=scale[0], vmax=scale[-1],index=scale,caption='step')\n",
    "\n",
    "# Plot each country separatly to enable popup\n",
    "for feature in euro_geo_json['features']:\n",
    "    name = feature['properties']['NAME']\n",
    "    rate = unemployment_data.get(name,'')\n",
    "    if(rate != ''):\n",
    "        feature['properties']['fill'] = colormap(rate)\n",
    "        gj = folium.GeoJson(\n",
    "            data=feature,style_function= lambda feature_:  {\n",
    "            'fillColor' : feature_['properties']['fill'],\n",
    "            'color': 'black',\n",
    "            'weight': 1,\n",
    "            'dashArray': '0, 0',\n",
    "            'fillOpacity': 0.9,\n",
    "            }\n",
    "        )\n",
    "        html = get_info_toshow(unemployment_data_original, name)\n",
    "        gj.add_child(folium.Popup(html))\n",
    "        gj.add_to(m_europe)\n",
    "\n",
    "\n",
    "colormap.caption = 'Unemployment rates by country'\n",
    "colormap.add_to(m_europe)\n",
    "display(HTML(\"<center><h4>Click on a country to interact with the map.</h4></center>\"))\n",
    "\n",
    "# Saving the Europe map\n",
    "m_europe.save('europe_unemployment.html')\n",
    "\n",
    "#Loading the map\n",
    "IFrame('europe_unemployment.html', width=1000, height=600)"
   ]
  },
  {
   "cell_type": "markdown",
   "metadata": {},
   "source": [
    "From the map above, we can see that the **Nothern part** of Europe have low unemployment rates compared to the **Southern part** and the **Eastern part**.<br>\n",
    "- The top 3 countries with the **highest** rates are: Macedonia,Spain and Greece.<br>\n",
    "- The top 3 countries with the **lowest** rates are: Norway,Switzerland and Iceland."
   ]
  },
  {
   "cell_type": "markdown",
   "metadata": {},
   "source": [
    "## Unemployment in Switzerland"
   ]
  },
  {
   "cell_type": "code",
   "execution_count": 118,
   "metadata": {},
   "outputs": [],
   "source": [
    "                                    ''' Helper functions for Switzerland '''\n",
    "\n",
    "def date_2_year(x):\n",
    "    ''' Convert a date to year '''\n",
    "    splitted = x.split(\" \")\n",
    "    if len(splitted) <= 1:\n",
    "        return np.nan\n",
    "    return splitted[1]\n",
    "\n",
    "def show_map_swiss(legend, data, columns, scale, color='OrRd', add_code=True, map_=None):\n",
    "    '''Show Switzerland map without layering'''\n",
    "    global cantons_json_data\n",
    "    # Add the canton code associated to every entry in the data frame \n",
    "    # the correspendence between canton's name and codes is done manually and saved in a csv file\n",
    "    if add_code:\n",
    "        canton_codes = pd.read_csv('cantons_code.csv', dtype='str')\n",
    "        data = pd.merge(data, canton_codes, on='Canton')\n",
    "    swiss_coord = [46.8182, 8.2275]\n",
    "    if map_ is None:\n",
    "        map_ = folium.Map(swiss_coord, zoom_start=8, tiles='cartodbpositron')\n",
    "    map_.choropleth(geo_data=cantons_json_data,\n",
    "                        data=data,\n",
    "                        columns=columns,\n",
    "                        fill_color=color, \n",
    "                        fill_opacity=1.0,\n",
    "                        key_on='feature.id',\n",
    "                        topojson='objects.cantons',\n",
    "                        line_opacity=0.2,\n",
    "                        legend_name=legend,\n",
    "                        threshold_scale=scale)\n",
    "    return map_\n",
    "\n",
    "def concatenate(data,col):\n",
    "    ''' Add the canton code associated to every entry in the data frame and set canton's code as a index\n",
    "    for the returned serie <col> '''\n",
    "    canton_codes = pd.read_csv('cantons_code.csv', dtype='str')\n",
    "    data = pd.merge(data, canton_codes, on='Canton').set_index('Code')[col]\n",
    "    return data\n",
    "\n",
    "\n",
    "        \n",
    "def show_layered_swiss(dict_,colormap,map_=None,layer_name=None):\n",
    "    '''Adds  a new layer to the map passed in parameters with name 'layer_name' or create a new map with a new layer if map_ = None . The final map contains layers that can be selected through\n",
    "    a radio button'''\n",
    "    global cantons_json_data\n",
    "    swiss_coord = [46.8182, 8.2275]\n",
    "\n",
    "    def style_function(feature):\n",
    "        ''' Map styling function, Colorate the canton as specified by the colormap and set their borders properties'''\n",
    "        return  {\n",
    "        'fillColor': colormap(dict_[feature['id']]),\n",
    "        'color': 'black',\n",
    "        'weight': 1,\n",
    "        'dashArray': '5, 5',\n",
    "        'fillOpacity': 0.9,\n",
    "        }\n",
    "    # Create new map it is not already passed in parameter  \n",
    "    if(map_ is None):\n",
    "        map_ = folium.Map(swiss_coord, zoom_start=8, tiles='cartodbpositron')\n",
    "        \n",
    "    # Add the new layer with the specified data passed in dict_ and the corresponding layer_name\n",
    "    # Topojson is used instead of the choropleth function since the latter doesn't allow customizeable layers \n",
    "    feature_group = FeatureGroup(name=layer_name,overlay=False)\n",
    "    folium.TileLayer(tiles='cartodbpositron',control=False).add_to(feature_group)\n",
    "    folium.TopoJson(cantons_json_data,'objects.cantons',style_function=style_function,name=layer_name).add_to(feature_group)\n",
    "    feature_group.add_to(map_)\n",
    "    return map_"
   ]
  },
  {
   "cell_type": "markdown",
   "metadata": {},
   "source": [
    "### Unemployement rate including employed and looking for a job"
   ]
  },
  {
   "cell_type": "code",
   "execution_count": 108,
   "metadata": {
    "scrolled": true
   },
   "outputs": [
    {
     "data": {
      "text/html": [
       "\n",
       "        <iframe\n",
       "            width=\"1000\"\n",
       "            height=\"600\"\n",
       "            src=\"swiss_unemployment.html\"\n",
       "            frameborder=\"0\"\n",
       "            allowfullscreen\n",
       "        ></iframe>\n",
       "        "
      ],
      "text/plain": [
       "<IPython.lib.display.IFrame at 0x11f8fd470>"
      ]
     },
     "execution_count": 108,
     "metadata": {},
     "output_type": "execute_result"
    }
   ],
   "source": [
    "df = pd.read_excel('swiss_unemp.xlsx', header=[0,1])\n",
    "\n",
    "# Clean data and extract unemp rate only\n",
    "swiss_unem_rate = df.loc[:, df.columns.get_level_values(1) == 'Taux de chômage']\n",
    "swiss_unem_rate.columns = swiss_unem_rate.columns.droplevel(level=1)\n",
    "swiss_unem_rate = swiss_unem_rate.transpose().drop('Total')\n",
    "\n",
    "# Extract year from the date and group the values by year\n",
    "swiss_unem_rate['Year'] = pd.Series(swiss_unem_rate.index).apply(date_2_year).tolist()\n",
    "swiss_unem_rate = pd.DataFrame(swiss_unem_rate.groupby('Year').mean().mean(axis=0)).reset_index()\n",
    "swiss_unem_rate.columns = ['Canton', 'Rate']\n",
    "\n",
    "# Show map\n",
    "scale_unemp_swiss = list(swiss_unem_rate['Rate'].quantile([0,.25, .5, .75, 1]))\n",
    "swiss_unemp_map = show_map_swiss('Unemployment rates in Switzerland by cantons', \n",
    "               swiss_unem_rate,\n",
    "               ['Code', 'Rate'], \n",
    "               scale_unemp_swiss)\n",
    "\n",
    "# Saving the map\n",
    "swiss_unemp_map.save('swiss_unemployment.html')\n",
    "\n",
    "#Loading the map\n",
    "IFrame('swiss_unemployment.html', width=1000, height=600)"
   ]
  },
  {
   "cell_type": "markdown",
   "metadata": {},
   "source": [
    "**Note**: *Here we include the people looking for job in our unemployment rates.*\n",
    "\n",
    "We can clearly see that the **western** and **southern sides** of Switzerland suffer from higher rates of unemployment compared to the **eastern side**.\n",
    "\n",
    "The top 3 cantons with the **highest** unemployment rates are:Geneva,Neuchatel and Vaud.<br>\n",
    "The top 3 cantons with the **lowest** unemployment rates are:Obwald,Appenzel Rhodes-Intérieures and Uri."
   ]
  },
  {
   "cell_type": "markdown",
   "metadata": {},
   "source": [
    "### Unemployement rate excluding employed people looking for a job"
   ]
  },
  {
   "cell_type": "markdown",
   "metadata": {},
   "source": [
    "**Scale**: For comparison purposes, we used the same scale for both maps."
   ]
  },
  {
   "cell_type": "code",
   "execution_count": 111,
   "metadata": {},
   "outputs": [
    {
     "data": {
      "text/html": [
       "\n",
       "        <iframe\n",
       "            width=\"1000\"\n",
       "            height=\"600\"\n",
       "            src=\"swiss_unemployment_without_employed.html\"\n",
       "            frameborder=\"0\"\n",
       "            allowfullscreen\n",
       "        ></iframe>\n",
       "        "
      ],
      "text/plain": [
       "<IPython.lib.display.IFrame at 0x11f7c7cf8>"
      ]
     },
     "execution_count": 111,
     "metadata": {},
     "output_type": "execute_result"
    }
   ],
   "source": [
    "''' Compute the unemployment rate exluding (T) the people looking for a job as follows:\n",
    "    T = (Chomeurs inscrits*Taux de chomage)/(Chomeurs inscrits+Demandeurs d'emploi non-chomeur)\n",
    "'''\n",
    "swiss_unemployed_rate = df.drop(['Mois','Total'], level=0, axis=1).stack().groupby(level=(0,)).agg(lambda x: (x[0]*x[2])/(x[0]+x[1])).transpose()\n",
    "swiss_unemployed_rate['Year'] = pd.Series(swiss_unemployed_rate.index).apply(date_2_year).tolist()\n",
    "swiss_unemployed_rate = pd.DataFrame(swiss_unemployed_rate.groupby('Year').mean().mean(axis=0)).reset_index()\n",
    "swiss_unemployed_rate.columns = ['Canton', 'Rate']\n",
    "\n",
    "# display(pd.merge(swiss_unemployed_rate.set_index('Canton'),swiss_unem_rate.set_index('Canton')))\n",
    "# #                  .join(swiss_unem_rate, on='Canton', lsuffix='_with_employed', rsuffix='_without_employed'))\n",
    "\n",
    "# Show map\n",
    "swiss_map_without_employed = show_map_swiss('Unemployment rates (excluding working people) in Switzerland by cantons', \n",
    "               swiss_unemployed_rate,\n",
    "               ['Code', 'Rate'], \n",
    "               scale_unemp_swiss)\n",
    "\n",
    "# Saving the map\n",
    "swiss_map_without_employed.save('swiss_unemployment_without_employed.html')\n",
    "\n",
    "#Loading the map\n",
    "IFrame('swiss_unemployment_without_employed.html', width=1000, height=600)"
   ]
  },
  {
   "cell_type": "markdown",
   "metadata": {},
   "source": [
    "**Note**: *Here we exclude the people looking for job in our unemployment rates.*\n",
    "\n",
    "The distribution of rates here is similar to the ones in map above.\n",
    "\n",
    "**Interpretation**: After removing the employed people looking for a job, we notice that the rates drop considerably within cantons, except from some french speaking regions."
   ]
  },
  {
   "cell_type": "markdown",
   "metadata": {},
   "source": [
    "### Foreigner vs Swiss unemployment in Switzerland"
   ]
  },
  {
   "cell_type": "code",
   "execution_count": 113,
   "metadata": {
    "scrolled": false
   },
   "outputs": [
    {
     "data": {
      "text/html": [
       "<center><h4>Select layers using the menu on the top right side.</h4></center>"
      ],
      "text/plain": [
       "<IPython.core.display.HTML object>"
      ]
     },
     "metadata": {},
     "output_type": "display_data"
    },
    {
     "data": {
      "text/html": [
       "\n",
       "        <iframe\n",
       "            width=\"1000\"\n",
       "            height=\"600\"\n",
       "            src=\"swiss_unemployment_foreigner.html\"\n",
       "            frameborder=\"0\"\n",
       "            allowfullscreen\n",
       "        ></iframe>\n",
       "        "
      ],
      "text/plain": [
       "<IPython.lib.display.IFrame at 0x11fb245f8>"
      ]
     },
     "execution_count": 113,
     "metadata": {},
     "output_type": "execute_result"
    }
   ],
   "source": [
    "# Import the csv file containing the unemployement rate rates in Switzerland and preprocess it to keep only need columns\n",
    "df_nationalities = pd.read_csv('2_1 Taux de chômage.csv', header=[0,1], encoding='utf-16',na_values = '...').drop(['Mois', 'Total'], axis=1, level=0)\n",
    "df_nationalities.columns = df_nationalities.columns.droplevel(level=1)\n",
    "df_nationalities = df_nationalities.set_index(['Canton','Nationalité'])\n",
    "df_nationalities= df_nationalities.apply(pd.to_numeric)\n",
    "df_nationalities = df_nationalities.drop('Total', axis=0, level=0).reset_index()\n",
    "# Add a new column containing the mean unemployment rate over the selected period\n",
    "df_nationalities['Rate'] = df_nationalities.loc[:, 'Décembre 2006':'Septembre 2017'].mean(axis=1)\n",
    "df_nationalities = df_nationalities[['Canton', 'Nationalité', 'Rate']]\n",
    "\n",
    "# Swiss and foreigners unemployment rate by canton\n",
    "df_foreigners = df_nationalities.loc[df_nationalities['Nationalité'] == 'Etrangers', ['Canton','Rate']]\n",
    "df_swiss = df_nationalities.loc[df_nationalities['Nationalité'] == 'Suisses', ['Canton','Rate']]\n",
    "\n",
    "scale = (pd.concat([(df_foreigners.quantile([0,0.25,0.5,0.75,1])),df_swiss.quantile([0,0.25,0.5,0.75,1])]).sort_values(by='Rate').reset_index()).loc[[0,2,4,6,8,9]].Rate.tolist()\n",
    "\n",
    "# Add the canton code\n",
    "df_swiss = concatenate(df_swiss,'Rate')\n",
    "df_foreigners = concatenate(df_foreigners,'Rate')\n",
    "\n",
    "# Display map with two layers\n",
    "colormap= cm.StepColormap(['#ffffb2','#fed976','#feb24c','#fd8d3c','#f03b20','#bd0026'], vmin=scale[0], vmax=scale[-1], index=scale, caption='step')\n",
    "CH_map = show_layered_swiss(df_swiss,colormap,layer_name=' swiss people unemployement rate')\n",
    "colormap.caption = 'Unemployment rates in Switzerland by cantons'\n",
    "colormap.add_to(CH_map)\n",
    "show_layered_swiss(df_foreigners ,colormap,layer_name=' Foreign people unemployement rate',map_=CH_map)\n",
    "folium.LayerControl().add_to(CH_map)\n",
    "display(HTML('<center><h4>Select layers using the menu on the top right side.</h4></center>'))\n",
    "\n",
    "# Saving the map\n",
    "CH_map.save('swiss_unemployment_foreigner.html')\n",
    "\n",
    "# Loading the map\n",
    "IFrame('swiss_unemployment_foreigner.html', width=1000, height=600)"
   ]
  },
  {
   "cell_type": "markdown",
   "metadata": {},
   "source": [
    "For **both swiss and foreigners** we observe that the unemployment rate gets **higher** as we move to the **western, most southern and most northern parts** of Switerzland. However, for foreigners the rates are higher independently of the region.\n",
    "As it will be seen from below, this distribution is correlated to the language spoken in the region."
   ]
  },
  {
   "cell_type": "markdown",
   "metadata": {},
   "source": [
    "### Unemployment rate per age"
   ]
  },
  {
   "cell_type": "code",
   "execution_count": 114,
   "metadata": {
    "scrolled": true
   },
   "outputs": [
    {
     "data": {
      "text/html": [
       "<div>\n",
       "<style>\n",
       "    .dataframe thead tr:only-child th {\n",
       "        text-align: right;\n",
       "    }\n",
       "\n",
       "    .dataframe thead th {\n",
       "        text-align: left;\n",
       "    }\n",
       "\n",
       "    .dataframe tbody tr th {\n",
       "        vertical-align: top;\n",
       "    }\n",
       "</style>\n",
       "<table border=\"1\" class=\"dataframe\">\n",
       "  <thead>\n",
       "    <tr style=\"text-align: right;\">\n",
       "      <th></th>\n",
       "      <th>Canton</th>\n",
       "      <th>Age class</th>\n",
       "      <th>Rate</th>\n",
       "    </tr>\n",
       "  </thead>\n",
       "  <tbody>\n",
       "    <tr>\n",
       "      <th>0</th>\n",
       "      <td>Zurich</td>\n",
       "      <td>15-24 Years old</td>\n",
       "      <td>3.690000</td>\n",
       "    </tr>\n",
       "    <tr>\n",
       "      <th>1</th>\n",
       "      <td>Zurich</td>\n",
       "      <td>25-49 Years old</td>\n",
       "      <td>3.311538</td>\n",
       "    </tr>\n",
       "    <tr>\n",
       "      <th>2</th>\n",
       "      <td>Zurich</td>\n",
       "      <td>50 Years old or more</td>\n",
       "      <td>2.678462</td>\n",
       "    </tr>\n",
       "    <tr>\n",
       "      <th>3</th>\n",
       "      <td>Berne</td>\n",
       "      <td>15-24 Years old</td>\n",
       "      <td>2.733846</td>\n",
       "    </tr>\n",
       "    <tr>\n",
       "      <th>4</th>\n",
       "      <td>Berne</td>\n",
       "      <td>25-49 Years old</td>\n",
       "      <td>2.396154</td>\n",
       "    </tr>\n",
       "  </tbody>\n",
       "</table>\n",
       "</div>"
      ],
      "text/plain": [
       "   Canton             Age class      Rate\n",
       "0  Zurich       15-24 Years old  3.690000\n",
       "1  Zurich       25-49 Years old  3.311538\n",
       "2  Zurich  50 Years old or more  2.678462\n",
       "3   Berne       15-24 Years old  2.733846\n",
       "4   Berne       25-49 Years old  2.396154"
      ]
     },
     "execution_count": 114,
     "metadata": {},
     "output_type": "execute_result"
    }
   ],
   "source": [
    "# Import the csv file containing the unemployement rate rates in Switzerland and preprocess it to keep only need columns\n",
    "df_ages = pd.read_csv('unemployement_CH_per_age.csv', header=[0,1], encoding='utf-16',na_values = '...').drop(['Mois', 'Total'], axis=1, level=0)\n",
    "df_ages.columns = df_ages.columns.droplevel(level=1)\n",
    "df_ages =  df_ages.loc[:, ~df_ages.columns.str.contains('^Unnamed')]\n",
    "df_ages= df_ages.rename(columns = {\"Classes d'âge 15-24, 25-49, 50 ans et plus\":'Age class'})\n",
    "df_ages['Age class'] = df_ages['Age class'].apply(lambda x : '15-24 Years old' if(x == 1) else '25-49 Years old' if (x==2) else '50 Years old or more')\n",
    "df_ages = df_ages.set_index(['Canton','Age class']) \n",
    "df_ages= df_ages.apply(pd.to_numeric)\n",
    "df_ages = df_ages.drop('Total', axis=0, level=0).reset_index()\n",
    "\n",
    "# Add a new column containing the mean unemployment rate over the selected period\n",
    "df_ages['Rate'] = df_ages.loc[:, 'Décembre 2006':'Septembre 2017'].mean(axis=1)\n",
    "df_ages = df_ages[['Canton', 'Age class', 'Rate']]\n",
    "df_ages.head()"
   ]
  },
  {
   "cell_type": "code",
   "execution_count": 115,
   "metadata": {},
   "outputs": [
    {
     "data": {
      "image/png": "[encoded data removed]",
      "text/plain": [
       "<matplotlib.figure.Figure at 0x11fa30208>"
      ]
     },
     "metadata": {},
     "output_type": "display_data"
    }
   ],
   "source": [
    "# Plot the unemployment rate by age class and by canton in Switzerland as a bar chart\n",
    "fig, ax = plt.subplots(figsize = (30,20))\n",
    "g = sns.factorplot(ax = ax,y=\"Canton\", x=\"Rate\",\n",
    "                   hue=\"Age class\",\n",
    "                   data=df_ages, kind=\"bar\");\n",
    "plt.setp(ax.get_xticklabels(), fontsize=23)\n",
    "plt.setp(ax.get_yticklabels(), fontsize=23)\n",
    "g.fig.subplots_adjust(hspace=3, wspace=1)\n",
    "plt.setp(ax.get_legend().get_texts(), fontsize=32) # for legend text\n",
    "plt.setp(ax.get_legend().get_title(), fontsize=42) # for legend title\n",
    "\n",
    "ax.xaxis.label.set_size(25)\n",
    "ax.yaxis.label.set_size(25)\n",
    "plt.close(g.fig)"
   ]
  },
  {
   "cell_type": "markdown",
   "metadata": {},
   "source": [
    "From the barcharts above,we make the following observations:\n",
    "\n",
    "  - For almost all cantons, unemployment rate for **the young population(15-24 years old)** is **higher** than the rest of population.This can be explained by the high number of students within this age range.<br>\n",
    "  - **French/Italian speaking cantons** have the **highest** unemployment rates compared to the German ones.This can be explaied by the concentration of most industries and economic activities in the German part of Switzerland (this point will be further confirmed below)."
   ]
  },
  {
   "cell_type": "markdown",
   "metadata": {},
   "source": [
    "## Bonus"
   ]
  },
  {
   "cell_type": "markdown",
   "metadata": {},
   "source": [
    "**Assumptions**: \n",
    "- We don't include 'Romanch' in our map.\n",
    "- We take only the most spoken language in cantons speaking more than one language."
   ]
  },
  {
   "cell_type": "code",
   "execution_count": 119,
   "metadata": {},
   "outputs": [
    {
     "data": {
      "text/html": [
       "\n",
       "        <iframe\n",
       "            width=\"1000\"\n",
       "            height=\"600\"\n",
       "            src=\"swiss_unemployment_language.html\"\n",
       "            frameborder=\"0\"\n",
       "            allowfullscreen\n",
       "        ></iframe>\n",
       "        "
      ],
      "text/plain": [
       "<IPython.lib.display.IFrame at 0x11fec1fd0>"
      ]
     },
     "execution_count": 119,
     "metadata": {},
     "output_type": "execute_result"
    }
   ],
   "source": [
    "# Mapping cantons to spoken language\n",
    "french_cantons = ['Vaud','Neuchâtel','Genève','Fribourg','Valais','Jura']\n",
    "german_cantons = ['Zurich','Berne','Lucerne','Uri','Schwyz','Obwald','Nidwald','Glaris','Zoug','Soleure','Bâle-Ville','Bâle-Campagne','Schaffhouse','Appenzell Rhodes-Extérieures','Appenzell Rhodes-Intérieures','St-Gall','Argovie','Thurgovie','Grisons']\n",
    "italian_cantons = ['Tessin']\n",
    "\n",
    "french_mask = swiss_unem_rate.Canton.isin(french_cantons)\n",
    "german_mask = swiss_unem_rate.Canton.isin(german_cantons)\n",
    "italian_mask = swiss_unem_rate.Canton.isin(italian_cantons)\n",
    "\n",
    "# Assigning the average unemployment rate per spoken language to cantons\n",
    "swiss_unem_rate.loc[french_mask, 'Rate'] = swiss_unem_rate.loc[french_mask, 'Rate'].mean()\n",
    "swiss_unem_rate.loc[german_mask, 'Rate'] = swiss_unem_rate.loc[german_mask, 'Rate'].mean()\n",
    "swiss_unem_rate.loc[italian_mask, 'Rate'] = swiss_unem_rate.loc[italian_mask, 'Rate'].mean()\n",
    "\n",
    "# Plot the map \n",
    "swiss_coord = [46.8182, 8.2275]\n",
    "map_ = folium.Map(swiss_coord, zoom_start=8, tiles='cartodbpositron', min_zoom=8, max_zoom=10)\n",
    "map_ = show_map_swiss('Unemployment rates in Switzerland by spoken language', \n",
    "                        swiss_unem_rate,\n",
    "                        ['Code', 'Rate'], \n",
    "                        scale=[2.2,3,4.26,4.5],\n",
    "                        map_=map_)\n",
    "\n",
    "# Adding labels to each region\n",
    "french_coord = [46.7, 6.6]\n",
    "german_coord = [47.20, 8.2275]\n",
    "italian_coord = [46.47, 8.63]\n",
    "folium.map.Marker(german_coord,icon=folium.DivIcon(html='<h2>German<h2>')).add_to(map_)\n",
    "folium.map.Marker(french_coord,icon=folium.DivIcon(html='<h3>French<h3>')).add_to(map_)\n",
    "folium.map.Marker(italian_coord,icon=folium.DivIcon(html='<h3>Italian<h3>')).add_to(map_)\n",
    "\n",
    "# Saving the map\n",
    "map_.save('swiss_unemployment_language.html')\n",
    "\n",
    "# Loading the map\n",
    "IFrame('swiss_unemployment_language.html', width=1000, height=600)"
   ]
  },
  {
   "cell_type": "markdown",
   "metadata": {},
   "source": [
    "We can see that the **german** speaking part has a **low** unemployment rate **compared to** the **french** and **italian** part which have almost similar rates."
   ]
  }
 ],
 "metadata": {
  "kernelspec": {
   "display_name": "Python 3",
   "language": "python",
   "name": "python3"
  },
  "language_info": {
   "codemirror_mode": {
    "name": "ipython",
    "version": 3
   },
   "file_extension": ".py",
   "mimetype": "text/x-python",
   "name": "python",
   "nbconvert_exporter": "python",
   "pygments_lexer": "ipython3",
   "version": "3.6.2"
  }
 },
 "nbformat": 4,
 "nbformat_minor": 2
}
