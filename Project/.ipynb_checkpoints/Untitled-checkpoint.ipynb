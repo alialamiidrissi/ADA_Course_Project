{
 "cells": [
  {
   "cell_type": "code",
   "execution_count": null,
   "metadata": {
    "collapsed": true
   },
   "outputs": [],
   "source": [
    "from yummly import Client\n",
    "\n",
    "api_id = 97235512\n",
    "api_key = \"910547f3d9b411971d1318bd99a18460\"\n",
    "TIMEOUT = 30\n",
    "\n",
    "client = Client(api_id=YOUR_API_ID, api_key=YOUR_API_KEY, timeout=TIMEOUT, retries=RETRIES)\n",
    "\n",
    "search = client.search('green eggs and ham')\n",
    "print(search)\n",
    "print(search.matches)\n",
    "# match = search.matches[0]\n",
    "# recipe = client.recipe(match.id)"
   ]
  }
 ],
 "metadata": {
  "kernelspec": {
   "display_name": "Python 3",
   "language": "python",
   "name": "python3"
  },
  "language_info": {
   "codemirror_mode": {
    "name": "ipython",
    "version": 3
   },
   "file_extension": ".py",
   "mimetype": "text/x-python",
   "name": "python",
   "nbconvert_exporter": "python",
   "pygments_lexer": "ipython3",
   "version": "3.6.2"
  }
 },
 "nbformat": 4,
 "nbformat_minor": 2
}
